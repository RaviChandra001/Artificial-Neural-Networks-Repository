{
  "nbformat": 4,
  "nbformat_minor": 0,
  "metadata": {
    "colab": {
      "provenance": []
    },
    "kernelspec": {
      "name": "python3",
      "display_name": "Python 3"
    },
    "language_info": {
      "name": "python"
    }
  },
  "cells": [
    {
      "cell_type": "code",
      "execution_count": 1,
      "metadata": {
        "colab": {
          "base_uri": "https://localhost:8080/"
        },
        "id": "1yEylGZpIDGy",
        "outputId": "df7b47b4-110c-4a64-a1c2-cdbd98053f21"
      },
      "outputs": [
        {
          "output_type": "stream",
          "name": "stdout",
          "text": [
            "     sky airtemp humidity    wind water forecast play\n",
            "0  sunny    warm   normal  strong  warm     same  yes\n",
            "1  sunny    warm     high  strong  warm     same  yes\n",
            "2  rainy    cold     high  strong  warm   change   no\n",
            "3  sunny    warm     high  strong  cool   change  yes\n",
            "sky          sunny\n",
            "airtemp       warm\n",
            "humidity    normal\n",
            "wind        strong\n",
            "water         warm\n",
            "forecast      same\n",
            "play           yes\n",
            "Name: 0, dtype: object\n"
          ]
        }
      ],
      "source": [
        "import pandas as pd\n",
        "data={\n",
        "    \"sky\":[\"sunny\",\"sunny\",\"rainy\",\"sunny\",],\n",
        "    \"airtemp\":[\"warm\",\"warm\",\"cold\",\"warm\",],\n",
        "    \"humidity\":[\"normal\",\"high\",\"high\",\"high\",],\n",
        "    \"wind\":[\"strong\",\"strong\",\"strong\",\"strong\",],\n",
        "    \"water\":[\"warm\",\"warm\",\"warm\",\"cool\",],\n",
        "    \"forecast\":[\"same\",\"same\",\"change\",\"change\",],\n",
        "    \"play\":[\"yes\",\"yes\",\"no\",\"yes\",],\n",
        "}\n",
        "\n",
        "df = pd.DataFrame(data)\n",
        "\n",
        "print(df)\n",
        "\n",
        "first_row = df.iloc[0]\n",
        "print(first_row)\n",
        "\n",
        "\n",
        "df = df[df['play'] != 'no']\n",
        "del df['play']\n",
        "# Find the length of the DataFrame\n",
        "df_length = len(df)"
      ]
    },
    {
      "cell_type": "code",
      "source": [
        "ho = [\"ϕ\",\"ϕ\",\"ϕ\",\"ϕ\",\"ϕ\",\"ϕ\",]"
      ],
      "metadata": {
        "id": "_hL4Z00_IURp"
      },
      "execution_count": 2,
      "outputs": []
    },
    {
      "cell_type": "code",
      "source": [
        "df_length = len(df)\n",
        "ho=df.iloc[0]\n",
        "for i in range(df_length):\n",
        "    if all(df.iloc[i] == ho):\n",
        "        pass\n",
        "    else:\n",
        "        for j in range(len(ho)):\n",
        "            if ho[j] != df.iloc[i][j]:\n",
        "                ho[j] = \"?\"\n",
        "\n",
        "print(ho)"
      ],
      "metadata": {
        "colab": {
          "base_uri": "https://localhost:8080/"
        },
        "id": "9IT6AvM_IWwl",
        "outputId": "6e4814ad-258b-4cb7-d85d-ccdb4033a172"
      },
      "execution_count": 3,
      "outputs": [
        {
          "output_type": "stream",
          "name": "stdout",
          "text": [
            "sky          sunny\n",
            "airtemp       warm\n",
            "humidity         ?\n",
            "wind        strong\n",
            "water            ?\n",
            "forecast         ?\n",
            "Name: 0, dtype: object\n"
          ]
        },
        {
          "output_type": "stream",
          "name": "stderr",
          "text": [
            "<ipython-input-3-1f125def55fb>:9: SettingWithCopyWarning: \n",
            "A value is trying to be set on a copy of a slice from a DataFrame\n",
            "\n",
            "See the caveats in the documentation: https://pandas.pydata.org/pandas-docs/stable/user_guide/indexing.html#returning-a-view-versus-a-copy\n",
            "  ho[j] = \"?\"\n"
          ]
        }
      ]
    },
    {
      "cell_type": "code",
      "source": [
        "data={\n",
        "    \"sky\":[\"sunny\",\"sunny\",\"rainy\",\"sunny\",],\n",
        "    \"airtemp\":[\"warm\",\"warm\",\"cold\",\"warm\",],\n",
        "    \"humidity\":[\"normal\",\"high\",\"high\",\"high\",],\n",
        "    \"wind\":[\"strong\",\"strong\",\"strong\",\"strong\",],\n",
        "    \"water\":[\"warm\",\"warm\",\"warm\",\"cool\",],\n",
        "    \"forecast\":[\"same\",\"same\",\"change\",\"change\",],\n",
        "    \"play\":[\"yes\",\"yes\",\"no\",\"yes\",],\n",
        "}\n",
        "\n",
        "df = pd.DataFrame(data)\n",
        "\n",
        "def findS(df):\n",
        "    df = df[df['play'] != 'no']\n",
        "    del df['play']\n",
        "    ho = [\"ϕ\",\"ϕ\",\"ϕ\",\"ϕ\",\"ϕ\",\"ϕ\",]\n",
        "    ho=df.iloc[0]\n",
        "    for i in range(len(df)):\n",
        "        if all(df.iloc[i] == ho):\n",
        "            pass\n",
        "        else:\n",
        "            for j in range(len(ho)):\n",
        "                if ho[j] != df.iloc[i][j]:\n",
        "                    ho[j] = \"?\"\n",
        "    # print(ho)\n",
        "    return ho\n",
        "\n",
        "\n",
        "print(findS(df))\n",
        ""
      ],
      "metadata": {
        "colab": {
          "base_uri": "https://localhost:8080/"
        },
        "id": "27z7LK8AIZmz",
        "outputId": "54198cde-4adc-42e8-d3bf-fa22dc4669da"
      },
      "execution_count": 4,
      "outputs": [
        {
          "output_type": "stream",
          "name": "stdout",
          "text": [
            "sky          sunny\n",
            "airtemp       warm\n",
            "humidity         ?\n",
            "wind        strong\n",
            "water            ?\n",
            "forecast         ?\n",
            "Name: 0, dtype: object\n"
          ]
        },
        {
          "output_type": "stream",
          "name": "stderr",
          "text": [
            "<ipython-input-4-d916b0a8c1a6>:24: SettingWithCopyWarning: \n",
            "A value is trying to be set on a copy of a slice from a DataFrame\n",
            "\n",
            "See the caveats in the documentation: https://pandas.pydata.org/pandas-docs/stable/user_guide/indexing.html#returning-a-view-versus-a-copy\n",
            "  ho[j] = \"?\"\n"
          ]
        }
      ]
    },
    {
      "cell_type": "code",
      "source": [
        "h1=\"ravi\"\n",
        "print(h1)"
      ],
      "metadata": {
        "id": "zWd0nig4Ilej",
        "outputId": "dcf2cd0f-93d3-497a-bc25-a6796fb323fd",
        "colab": {
          "base_uri": "https://localhost:8080/"
        }
      },
      "execution_count": 5,
      "outputs": [
        {
          "output_type": "stream",
          "name": "stdout",
          "text": [
            "ravi\n"
          ]
        }
      ]
    }
  ]
}